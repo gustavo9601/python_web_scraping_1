{
 "cells": [
  {
   "cell_type": "code",
   "execution_count": 155,
   "metadata": {
    "collapsed": true
   },
   "outputs": [
    {
     "data": {
      "text/plain": "'\\nURL: https://www.larepublica.co/\\n\\n# Accediendo alos links de las notificas titulares\\n$x(\\'//h2[@class=\"headline\"]/a/@href\\').map(x => x.value)\\n\\n# Accediendo a los links de las notificas pequeñas\\n$x(\\'//div[@class=\"news V_Title_Img\"]/h2/a/@href\\').map(x => x.value)\\n\\n////////////////////////////////////////////////////////////////////\\n\\n# Accediendo al titulo detalle noticia\\nhttps://www.larepublica.co/economia/gobierno-nacional-levanta-restriccion-a-vehiculos-de-carga-para-este-domingo-25-de-abril-3159071\\n$x(\\'//div[@class=\"row OpeningPostNormal\"]/div[2]/div/h2/span/text()\\').map(x => x.wholeText)\\n\\n# Accedinedo al resumen de la notifica\\n$x(\\'//div[@class=\"lead\"]/p/text()\\').map(x => x.wholeText)\\n\\n# Accediendo a todo el texto de los parrafos del contenido\\n# p[not(@class)] // accede a todos los p que no tengan ninguna clase\\n$x(\\'//div[@class=\"html-content\"]/p[not(@class)]/text()\\').map(x => x.wholeText)\\n\\n# Accediendo a la url de la imagen principal\\n$x(\\'//div[@class=\"img-principal open-gallery\"]/img/@data-original\\')\\n\\n'"
     },
     "execution_count": 155,
     "metadata": {},
     "output_type": "execute_result"
    }
   ],
   "source": [
    "\"\"\"\n",
    "URL: https://www.larepublica.co/\n",
    "\n",
    "# Accediendo alos links de las notificas titulares\n",
    "$x('//h2[@class=\"headline\"]/a/@href').map(x => x.value)\n",
    "\n",
    "# Accediendo a los links de las notificas pequeñas\n",
    "$x('//div[@class=\"news V_Title_Img\"]/h2/a/@href').map(x => x.value)\n",
    "\n",
    "////////////////////////////////////////////////////////////////////\n",
    "\n",
    "# Accediendo al titulo detalle noticia\n",
    "https://www.larepublica.co/economia/gobierno-nacional-levanta-restriccion-a-vehiculos-de-carga-para-este-domingo-25-de-abril-3159071\n",
    "$x('//div[@class=\"row OpeningPostNormal\"]/div[2]/div/h2/span/text()').map(x => x.wholeText)\n",
    "\n",
    "# Accedinedo al resumen de la notifica\n",
    "$x('//div[@class=\"lead\"]/p/text()').map(x => x.wholeText)\n",
    "\n",
    "# Accediendo a todo el texto de los parrafos del contenido\n",
    "# p[not(@class)] // accede a todos los p que no tengan ninguna clase\n",
    "$x('//div[@class=\"html-content\"]/p[not(@class)]/text()').map(x => x.wholeText)\n",
    "\n",
    "# Accediendo a la url de la imagen principal\n",
    "$x('//div[@class=\"img-principal open-gallery\"]/img/@data-original')\n",
    "\n",
    "\"\"\"\n",
    "\n"
   ]
  },
  {
   "cell_type": "code",
   "execution_count": 156,
   "outputs": [],
   "source": [
    "# pip install -r requirements.txt\n",
    "\n",
    "# Imports\n",
    "import requests\n",
    "# .html permite ejecutar sobre el html optenido sentncias de xpath\n",
    "import lxml.html as html\n",
    "import datetime\n",
    "import pandas as pd"
   ],
   "metadata": {
    "collapsed": false,
    "pycharm": {
     "name": "#%%\n"
    }
   }
  },
  {
   "cell_type": "code",
   "execution_count": 157,
   "outputs": [],
   "source": [
    "# Variables globales\n",
    "HOME_URL = 'https://www.larepublica.co/'\n",
    "XPATH_LINK_TO_ARTICLE = '//div[@class=\"news V_Title_Img\"]/text-fill/a/@href'\n",
    "XPATH_TITLE = '//div[@class=\"row OpeningPostNormal\"]/div[2]/div/text-fill/span/text()'\n",
    "XPATH_SUMMARY = '//div[@class=\"lead\"]/p/text()'\n",
    "XPATH_BODY = '//div[@class=\"html-content\"]/p[not(@class)]/text()'\n",
    "XPATH_IMAGE = '//div[@class=\"img-principal open-gallery\"]/img/@data-original'\n",
    "OUTPUT_DIR = './outputs/la_republica/'\n"
   ],
   "metadata": {
    "collapsed": false,
    "pycharm": {
     "name": "#%%\n"
    }
   }
  },
  {
   "cell_type": "code",
   "execution_count": 158,
   "outputs": [],
   "source": [
    "def save_file(data, today):\n",
    "    df = pd.DataFrame(data, columns=['title', 'summary', 'body', 'image'])\n",
    "    df.to_csv(OUTPUT_DIR + today + '.csv', sep='|')\n"
   ],
   "metadata": {
    "collapsed": false,
    "pycharm": {
     "name": "#%%\n"
    }
   }
  },
  {
   "cell_type": "code",
   "execution_count": 159,
   "outputs": [],
   "source": [
    "#\n",
    "def parse_home():\n",
    "    try:\n",
    "        # Obtenemos todo el html del request\n",
    "        response = requests.get(HOME_URL)\n",
    "\n",
    "        if response.status_code == 200:\n",
    "            # Almacenando todo el html, y decodificando a utf8\n",
    "            home_content = response.content.decode('utf-8')\n",
    "\n",
    "            file_home = open(OUTPUT_DIR + 'home_republica.html', 'a')\n",
    "            file_home.write(home_content)\n",
    "\n",
    "            # Parseando el documento html para operar con XPATH\n",
    "            parsed = html.fromstring(home_content)\n",
    "\n",
    "            # Ejecutando la sentencia de xpath y obteniendo los links\n",
    "            links_to_notices = parsed.xpath(XPATH_LINK_TO_ARTICLE)\n",
    "            print(links_to_notices)\n",
    "\n",
    "            # Fecha formateada\n",
    "            today = datetime.date.today().strftime('%d-%m-%Y')\n",
    "            print(\"today >>\", today)\n",
    "\n",
    "            notices = []\n",
    "            for link in links_to_notices:\n",
    "                notice = parse_notice(link)\n",
    "                print(notice)\n",
    "                notices.append(notice)\n",
    "            save_file(notices, today)\n",
    "\n",
    "        else:\n",
    "            raise ValueError(f'Error : {response.status_code}')\n",
    "\n",
    "    except ValueError as ve:\n",
    "        print(ve)\n"
   ],
   "metadata": {
    "collapsed": false,
    "pycharm": {
     "name": "#%%\n"
    }
   }
  },
  {
   "cell_type": "code",
   "execution_count": 160,
   "outputs": [],
   "source": [
    "def parse_notice(link):\n",
    "    try:\n",
    "        # Obtenemos todo el html del request\n",
    "        response = requests.get(link)\n",
    "        # Almacenando todo el html, y decodificando a utf8\n",
    "        home_content = response.content.decode('utf-8')\n",
    "        # Parseando el documento html para operar con XPATH\n",
    "        parsed = html.fromstring(home_content)\n",
    "        # Ejecutando la sentencia de xpath y obteniendo los links\n",
    "        # Se accede a [0] por que solo requerimos la primer posicion\n",
    "        title = parsed.xpath(XPATH_TITLE)[0]\n",
    "        # Reemplazando si hay \"\" por vacio\n",
    "        title = title.replace('\\\"', '')\n",
    "\n",
    "        summary = parsed.xpath(XPATH_SUMMARY)[0] if len(parsed.xpath(XPATH_SUMMARY)) > 0 else \"\"\n",
    "        body = parsed.xpath(XPATH_BODY)[0]\n",
    "        image = parsed.xpath(XPATH_IMAGE)[0]\n",
    "\n",
    "        return {\n",
    "            'title': title,\n",
    "            'summary': summary,\n",
    "            'body': body,\n",
    "            'image': image,\n",
    "        }\n",
    "\n",
    "    except ValueError as ve:\n",
    "        print(ve)\n",
    "\n",
    "\n",
    "\n",
    "\n"
   ],
   "metadata": {
    "collapsed": false,
    "pycharm": {
     "name": "#%%\n"
    }
   }
  },
  {
   "cell_type": "code",
   "execution_count": 161,
   "outputs": [
    {
     "name": "stdout",
     "output_type": "stream",
     "text": [
      "['https://www.larepublica.co/economia/el-pais-registra-la-mayor-cifra-de-ocupacion-de-camas-uci-tras-superar-80-de-la-capacidad-3159182', 'https://www.larepublica.co/economia/gobierno-anuncia-que-entre-manana-y-el-martes-arriban-mas-de-dos-millones-de-vacunas-3159079', 'https://www.larepublica.co/economia/minsalud-reporto-que-en-las-ultimas-24-horas-se-detectaron-16730-casos-de-covid-19-3159144', 'https://www.larepublica.co/economia/bogota-se-prepara-para-tercera-ola-de-contagios-con-mas-hospitales-de-campana-y-tele-uci-3159106', 'https://www.larepublica.co/globoeconomia/colombia-ocupo-el-puesto-41-del-indice-mundial-de-miseria-2020-que-realiza-hanke-3159122', 'https://www.larepublica.co/economia/gobierno-nacional-levanta-restriccion-a-vehiculos-de-carga-para-este-domingo-25-de-abril-3159071']\n",
      "today >> 24-04-2021\n",
      "{'title': 'El país registra la mayor cifra de ocupación de camas UCI tras superar 80% de la capacidad', 'summary': 'En departamentos críticos como Antioquia que tiene una ocupación de 97,32%, ha llevado a los médicos a pedir confinamiento total por 14 días', 'body': 'La situación sanitaria en el país está a 10% de colapsar en términos de ocupación de camas UCI. A la fecha, se reportó que el país superó 80% de la capacidad hospitalaria, el nivel más alto que se ha registrado a lo largo de la pandemia.', 'image': 'https://img.lalr.co/cms/2021/04/24195619/COLP_232170.jpg'}\n",
      "{'title': 'Gobierno anuncia que entre mañana y el martes arriban más de dos millones de vacunas', 'summary': 'Con el millón de vacunas de Sinovac se cubrirá la totalidad de la población que fue reprogramada para poder aplicar segunda dosis', 'body': 'Durante el programa ‘Prevención y Acción’, el Presidente Iván Duque anunció la llegada de un millón de ', 'image': 'https://img.lalr.co/cms/2021/03/17063617/nuevas-Vacunas.jpg'}\n",
      "{'title': 'Minsalud reportó que en las últimas 24 horas se detectaron 16.730 casos de covid-19', 'summary': 'La cartera informó que, en total, se han registrado 70.886 fallecidos, 2.573.657 recuperados y los casos activas llegaron a 103.471', 'body': 'El Ministerio de Salud informó en su reporte diario que en las últimas 24 horas se registraron 16.730 casos nuevos de covid-19 en el país, por lo que en total van 2.757.274 casos confirmados del virus a lo largo del territorio.', 'image': 'https://img.lalr.co/cms/2021/04/24172016/24042021MapaCovid.jpg'}\n",
      "{'title': 'Bogotá se prepara para tercera ola de contagios con más hospitales de campaña  y tele UCI', 'summary': 'También habrá disposición de instrumentos de ventilación en toda la cadena de atención hospitalaria. Se dispuso oxigeno corriente', 'body': 'La alcaldesa de Bogotá, Claudia López, anunció que la ciudad implementará tres medidas para ampliar la capacidad de la red hospitalaria en medio del tercer pico de contagios de covid-19, medidas que se sumarán a la expansión de camas UCI, a la toma masiva de pruebas y a las medidas de cuarentena.', 'image': 'https://img.lalr.co/cms/2021/04/24142213/COLP_EXT_093022.jpg'}\n",
      "{'title': 'Colombia ocupó el puesto 41 en el Índice Anual de Miseria que se hace a nivel global', 'summary': 'En el informe que evalúa variables como la pobreza, la inflación, el PIB  y el desempleo, puso a Venezuela en el primer lugar de países más miserables', 'body': 'Miseria y felicidad,  son las dos variables que midió el último informe del Índice Anual de Miseria de Hanke (Hami), el cuál calcula el bienestar de los países a través del lente de la economía. Este año, se analizaron 156 países.', 'image': 'https://img.lalr.co/cms/2021/04/24183531/web_globo_24042021_1080x900.jpg'}\n",
      "{'title': 'Gobierno Nacional levanta restricción a vehículos de carga para este domingo 25 de abril', 'summary': 'El Ministerio de Transporte justificó la medida como una acción necesaria para continuar aportando con la reactivación del país', 'body': 'El Gobierno Nacional, a través del Ministerio de ', 'image': 'https://img.lalr.co/cms/2020/06/17083115/Transporte-de-carga.jpg'}\n"
     ]
    }
   ],
   "source": [
    "def run():\n",
    "    parse_home()\n",
    "\n",
    "\n",
    "run()\n",
    "\n",
    "\n"
   ],
   "metadata": {
    "collapsed": false,
    "pycharm": {
     "name": "#%%\n"
    }
   }
  }
 ],
 "metadata": {
  "kernelspec": {
   "display_name": "Python 3",
   "language": "python",
   "name": "python3"
  },
  "language_info": {
   "codemirror_mode": {
    "name": "ipython",
    "version": 2
   },
   "file_extension": ".py",
   "mimetype": "text/x-python",
   "name": "python",
   "nbconvert_exporter": "python",
   "pygments_lexer": "ipython2",
   "version": "2.7.6"
  }
 },
 "nbformat": 4,
 "nbformat_minor": 0
}