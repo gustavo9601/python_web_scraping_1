{
 "cells": [
  {
   "cell_type": "code",
   "execution_count": null,
   "metadata": {
    "collapsed": true
   },
   "outputs": [],
   "source": [
    "\"\"\"\n",
    "URL: https://www.larepublica.co/\n",
    "\n",
    "# Accediendo alos links de las notificas titulares\n",
    "$x('//h2[@class=\"headline\"]/a/@href').map(x => x.value)\n",
    "\n",
    "# Accediendo a los links de las notificas pequeñas\n",
    "$x('//div[@class=\"news V_Title_Img\"]/h2/a/@href').map(x => x.value)\n",
    "\n",
    "////////////////////////////////////////////////////////////////////\n",
    "\n",
    "# Accediendo al titulo detalle noticia\n",
    "https://www.larepublica.co/economia/gobierno-nacional-levanta-restriccion-a-vehiculos-de-carga-para-este-domingo-25-de-abril-3159071\n",
    "$x('//div[@class=\"row OpeningPostNormal\"]/div[2]/div/h2/span/text()').map(x => x.wholeText)\n",
    "\n",
    "# Accedinedo al resumen de la notifica\n",
    "$x('//div[@class=\"lead\"]/p/text()').map(x => x.wholeText)\n",
    "\n",
    "# Accediendo a todo el texto de los parrafos del contenido\n",
    "# p[not(@class)] // accede a todos los p que no tengan ninguna clase\n",
    "$x('//div[@class=\"html-content\"]/p[not(@class)]/text()').map(x => x.wholeText)\n",
    "\n",
    "# Accediendo a la url de la imagen principal\n",
    "$x('//div[@class=\"img-principal open-gallery\"]/img/@src')\n",
    "\n",
    "\"\"\"\n",
    "\n",
    "\n"
   ]
  }
 ],
 "metadata": {
  "kernelspec": {
   "display_name": "Python 3",
   "language": "python",
   "name": "python3"
  },
  "language_info": {
   "codemirror_mode": {
    "name": "ipython",
    "version": 2
   },
   "file_extension": ".py",
   "mimetype": "text/x-python",
   "name": "python",
   "nbconvert_exporter": "python",
   "pygments_lexer": "ipython2",
   "version": "2.7.6"
  }
 },
 "nbformat": 4,
 "nbformat_minor": 0
}