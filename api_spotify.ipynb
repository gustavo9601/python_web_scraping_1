{
 "cells": [
  {
   "cell_type": "code",
   "execution_count": null,
   "metadata": {
    "collapsed": true
   },
   "outputs": [],
   "source": [
    "# Documentation sopitify api\n",
    "# https://developer.spotify.com/documentation/\n",
    "\n"
   ]
  },
  {
   "cell_type": "code",
   "execution_count": 43,
   "outputs": [],
   "source": [
    "# Imports\n",
    "import requests\n",
    "import base64\n",
    "import pandas as pd"
   ],
   "metadata": {
    "collapsed": false,
    "pycharm": {
     "name": "#%%\n"
    }
   }
  },
  {
   "cell_type": "code",
   "execution_count": 38,
   "outputs": [
    {
     "name": "stdout",
     "output_type": "stream",
     "text": [
      "{'access_token': 'BQDfd9NnZVzT4aYudBmHpZnS0VhFROeCD0Wh6soMidUW0vr6f93IyvXmKveEcJLhrA0eLk19xk3GwGOIAiw', 'token_type': 'Bearer', 'expires_in': 3600}\n",
      "BQDfd9NnZVzT4aYudBmHpZnS0VhFROeCD0Wh6soMidUW0vr6f93IyvXmKveEcJLhrA0eLk19xk3GwGOIAiw\n"
     ]
    }
   ],
   "source": [
    "# Autenticandonos en el endpoint de spotify, para obtener el token de auth\n",
    "token_url = 'https://accounts.spotify.com/api/token'\n",
    "\n",
    "client_id = 'f6cc616f45b14463b1c1d13b89df368a'\n",
    "client_secret = '71472d7950334e7fbfd86df0cbb89ac7'\n",
    "\n",
    "id_secret_encode = (client_id + ':' + client_secret).encode('utf-8')\n",
    "autohorization_encode = base64.b64encode(id_secret_encode).decode(\"utf-8\")\n",
    "\n",
    "params = {'grant_type': 'client_credentials'}\n",
    "headers = {'Authorization': f'Basic {autohorization_encode}'}\n",
    "get_token_request = requests.post(token_url, data=params, headers=headers)\n",
    "print(get_token_request.json())\n",
    "token_auth = get_token_request.json()['access_token']\n",
    "print(token_auth)\n"
   ],
   "metadata": {
    "collapsed": false,
    "pycharm": {
     "name": "#%%\n"
    }
   }
  },
  {
   "cell_type": "code",
   "execution_count": 41,
   "outputs": [
    {
     "name": "stdout",
     "output_type": "stream",
     "text": [
      "https://api.spotify.com/v1/artists/6eUKZXaKkcviH0Ku9w2n3V\n",
      "status_code >  200\n"
     ]
    },
    {
     "data": {
      "text/plain": "{'external_urls': {'spotify': 'https://open.spotify.com/artist/6eUKZXaKkcviH0Ku9w2n3V'},\n 'followers': {'href': None, 'total': 79413741},\n 'genres': ['pop', 'uk pop'],\n 'href': 'https://api.spotify.com/v1/artists/6eUKZXaKkcviH0Ku9w2n3V',\n 'id': '6eUKZXaKkcviH0Ku9w2n3V',\n 'images': [{'height': 640,\n   'url': 'https://i.scdn.co/image/c9e693f336bc004af00c51bbf0a157e8b5af75f2',\n   'width': 640},\n  {'height': 320,\n   'url': 'https://i.scdn.co/image/ebe13258cf525b7399ea1b34a25d38172b3023a1',\n   'width': 320},\n  {'height': 160,\n   'url': 'https://i.scdn.co/image/05fc0a0a6b74757e87da8081c358f5ee972466db',\n   'width': 160}],\n 'name': 'Ed Sheeran',\n 'popularity': 93,\n 'type': 'artist',\n 'uri': 'spotify:artist:6eUKZXaKkcviH0Ku9w2n3V'}"
     },
     "execution_count": 41,
     "metadata": {},
     "output_type": "execute_result"
    }
   ],
   "source": [
    "# Consumiendo el api de artistas\n",
    "url_base = 'https://api.spotify.com/v1/'\n",
    "id_artists = '6eUKZXaKkcviH0Ku9w2n3V'\n",
    "endpoint_artist = f'artists/{id_artists}'\n",
    "\n",
    "url_api = url_base + endpoint_artist\n",
    "print(url_api)\n",
    "\n",
    "# Obteniedno las canciones por el artista\n",
    "headers_api = {'Authorization': f'Bearer {token_auth}'}\n",
    "request_api = requests.get(url_api, headers=headers_api)\n",
    "print('status_code > ', request_api.status_code)\n",
    "request_api.json()"
   ],
   "metadata": {
    "collapsed": false,
    "pycharm": {
     "name": "#%%\n"
    }
   }
  },
  {
   "cell_type": "code",
   "execution_count": 42,
   "outputs": [
    {
     "data": {
      "text/plain": "{'artists': {'href': 'https://api.spotify.com/v1/search?query=Ed%2BSheeran&type=artist&market=CO&offset=0&limit=20',\n  'items': [{'external_urls': {'spotify': 'https://open.spotify.com/artist/6eUKZXaKkcviH0Ku9w2n3V'},\n    'followers': {'href': None, 'total': 79413741},\n    'genres': ['pop', 'uk pop'],\n    'href': 'https://api.spotify.com/v1/artists/6eUKZXaKkcviH0Ku9w2n3V',\n    'id': '6eUKZXaKkcviH0Ku9w2n3V',\n    'images': [{'height': 640,\n      'url': 'https://i.scdn.co/image/c9e693f336bc004af00c51bbf0a157e8b5af75f2',\n      'width': 640},\n     {'height': 320,\n      'url': 'https://i.scdn.co/image/ebe13258cf525b7399ea1b34a25d38172b3023a1',\n      'width': 320},\n     {'height': 160,\n      'url': 'https://i.scdn.co/image/05fc0a0a6b74757e87da8081c358f5ee972466db',\n      'width': 160}],\n    'name': 'Ed Sheeran',\n    'popularity': 93,\n    'type': 'artist',\n    'uri': 'spotify:artist:6eUKZXaKkcviH0Ku9w2n3V'},\n   {'external_urls': {'spotify': 'https://open.spotify.com/artist/2czT7fmCNgyXkQAZqjYBb8'},\n    'followers': {'href': None, 'total': 2668},\n    'genres': [],\n    'href': 'https://api.spotify.com/v1/artists/2czT7fmCNgyXkQAZqjYBb8',\n    'id': '2czT7fmCNgyXkQAZqjYBb8',\n    'images': [{'height': 640,\n      'url': 'https://i.scdn.co/image/ab67616d0000b2730270a4af75af4b9902e13432',\n      'width': 640},\n     {'height': 300,\n      'url': 'https://i.scdn.co/image/ab67616d00001e020270a4af75af4b9902e13432',\n      'width': 300},\n     {'height': 64,\n      'url': 'https://i.scdn.co/image/ab67616d000048510270a4af75af4b9902e13432',\n      'width': 64}],\n    'name': 'Ed Sheeran Band',\n    'popularity': 5,\n    'type': 'artist',\n    'uri': 'spotify:artist:2czT7fmCNgyXkQAZqjYBb8'},\n   {'external_urls': {'spotify': 'https://open.spotify.com/artist/69OdrDqV3GdEhvyP8iZwks'},\n    'followers': {'href': None, 'total': 42},\n    'genres': [],\n    'href': 'https://api.spotify.com/v1/artists/69OdrDqV3GdEhvyP8iZwks',\n    'id': '69OdrDqV3GdEhvyP8iZwks',\n    'images': [{'height': 640,\n      'url': 'https://i.scdn.co/image/ab67616d0000b273667cada64bc4aa1ba7a29520',\n      'width': 640},\n     {'height': 300,\n      'url': 'https://i.scdn.co/image/ab67616d00001e02667cada64bc4aa1ba7a29520',\n      'width': 300},\n     {'height': 64,\n      'url': 'https://i.scdn.co/image/ab67616d00004851667cada64bc4aa1ba7a29520',\n      'width': 64}],\n    'name': 'Ed Sheeranivashan',\n    'popularity': 0,\n    'type': 'artist',\n    'uri': 'spotify:artist:69OdrDqV3GdEhvyP8iZwks'},\n   {'external_urls': {'spotify': 'https://open.spotify.com/artist/2Vvz9VlewaR5wMQPrEZhC2'},\n    'followers': {'href': None, 'total': 398},\n    'genres': [],\n    'href': 'https://api.spotify.com/v1/artists/2Vvz9VlewaR5wMQPrEZhC2',\n    'id': '2Vvz9VlewaR5wMQPrEZhC2',\n    'images': [],\n    'name': 'Ed Sheeran;Amy Wadge',\n    'popularity': 2,\n    'type': 'artist',\n    'uri': 'spotify:artist:2Vvz9VlewaR5wMQPrEZhC2'}],\n  'limit': 20,\n  'next': None,\n  'offset': 0,\n  'previous': None,\n  'total': 4}}"
     },
     "execution_count": 42,
     "metadata": {},
     "output_type": "execute_result"
    }
   ],
   "source": [
    "# Consumiendo el api de Busquedas\n",
    "url_busqueda = url_base + 'search'\n",
    "search_params = {\n",
    "    'q': 'Ed+Sheeran',\n",
    "    'type': 'artist',\n",
    "    'market': 'CO'\n",
    "}\n",
    "busqueda_api = requests.get(url_busqueda, headers=headers_api, params=search_params)\n",
    "busqueda_api.json()\n"
   ],
   "metadata": {
    "collapsed": false,
    "pycharm": {
     "name": "#%%\n"
    }
   }
  },
  {
   "cell_type": "code",
   "execution_count": 45,
   "outputs": [
    {
     "data": {
      "text/plain": "'6eUKZXaKkcviH0Ku9w2n3V'"
     },
     "execution_count": 45,
     "metadata": {},
     "output_type": "execute_result"
    }
   ],
   "source": [
    "# Extrayendo el id del artista, trasnformando el diccionario a Dataframe\n",
    "df_artists = pd.DataFrame(busqueda_api.json()['artists']['items'])\n",
    "df_artists.head()\n",
    "\n",
    "# Ordenamos el df por popularidad y obteniendo el primer\n",
    "id_artist_from_df = df_artists.sort_values(by='popularity', ascending=False).iloc[0]['id']\n",
    "id_artist_from_df\n"
   ],
   "metadata": {
    "collapsed": false,
    "pycharm": {
     "name": "#%%\n"
    }
   }
  },
  {
   "cell_type": "code",
   "execution_count": 46,
   "outputs": [
    {
     "data": {
      "text/plain": "{'href': 'https://api.spotify.com/v1/artists/6eUKZXaKkcviH0Ku9w2n3V/albums?offset=0&limit=20&include_groups=album,single,compilation,appears_on&market=CO',\n 'items': [{'album_group': 'album',\n   'album_type': 'album',\n   'artists': [{'external_urls': {'spotify': 'https://open.spotify.com/artist/6eUKZXaKkcviH0Ku9w2n3V'},\n     'href': 'https://api.spotify.com/v1/artists/6eUKZXaKkcviH0Ku9w2n3V',\n     'id': '6eUKZXaKkcviH0Ku9w2n3V',\n     'name': 'Ed Sheeran',\n     'type': 'artist',\n     'uri': 'spotify:artist:6eUKZXaKkcviH0Ku9w2n3V'}],\n   'external_urls': {'spotify': 'https://open.spotify.com/album/3oIFxDIo2fwuk4lwCmFZCx'},\n   'href': 'https://api.spotify.com/v1/albums/3oIFxDIo2fwuk4lwCmFZCx',\n   'id': '3oIFxDIo2fwuk4lwCmFZCx',\n   'images': [{'height': 640,\n     'url': 'https://i.scdn.co/image/ab67616d0000b27373304ce0653c7758dd94b259',\n     'width': 640},\n    {'height': 300,\n     'url': 'https://i.scdn.co/image/ab67616d00001e0273304ce0653c7758dd94b259',\n     'width': 300},\n    {'height': 64,\n     'url': 'https://i.scdn.co/image/ab67616d0000485173304ce0653c7758dd94b259',\n     'width': 64}],\n   'name': 'No.6 Collaborations Project',\n   'release_date': '2019-07-12',\n   'release_date_precision': 'day',\n   'total_tracks': 15,\n   'type': 'album',\n   'uri': 'spotify:album:3oIFxDIo2fwuk4lwCmFZCx'},\n  {'album_group': 'album',\n   'album_type': 'album',\n   'artists': [{'external_urls': {'spotify': 'https://open.spotify.com/artist/6eUKZXaKkcviH0Ku9w2n3V'},\n     'href': 'https://api.spotify.com/v1/artists/6eUKZXaKkcviH0Ku9w2n3V',\n     'id': '6eUKZXaKkcviH0Ku9w2n3V',\n     'name': 'Ed Sheeran',\n     'type': 'artist',\n     'uri': 'spotify:artist:6eUKZXaKkcviH0Ku9w2n3V'}],\n   'external_urls': {'spotify': 'https://open.spotify.com/album/5oUZ9TEZR3wOdvqzowuNwl'},\n   'href': 'https://api.spotify.com/v1/albums/5oUZ9TEZR3wOdvqzowuNwl',\n   'id': '5oUZ9TEZR3wOdvqzowuNwl',\n   'images': [{'height': 640,\n     'url': 'https://i.scdn.co/image/ab67616d0000b2737ed2a6d678a53a5959b2894f',\n     'width': 640},\n    {'height': 300,\n     'url': 'https://i.scdn.co/image/ab67616d00001e027ed2a6d678a53a5959b2894f',\n     'width': 300},\n    {'height': 64,\n     'url': 'https://i.scdn.co/image/ab67616d000048517ed2a6d678a53a5959b2894f',\n     'width': 64}],\n   'name': 'No.6 Collaborations Project',\n   'release_date': '2019-07-12',\n   'release_date_precision': 'day',\n   'total_tracks': 15,\n   'type': 'album',\n   'uri': 'spotify:album:5oUZ9TEZR3wOdvqzowuNwl'},\n  {'album_group': 'album',\n   'album_type': 'album',\n   'artists': [{'external_urls': {'spotify': 'https://open.spotify.com/artist/6eUKZXaKkcviH0Ku9w2n3V'},\n     'href': 'https://api.spotify.com/v1/artists/6eUKZXaKkcviH0Ku9w2n3V',\n     'id': '6eUKZXaKkcviH0Ku9w2n3V',\n     'name': 'Ed Sheeran',\n     'type': 'artist',\n     'uri': 'spotify:artist:6eUKZXaKkcviH0Ku9w2n3V'}],\n   'external_urls': {'spotify': 'https://open.spotify.com/album/3T4tUhGYeRNVUGevb0wThu'},\n   'href': 'https://api.spotify.com/v1/albums/3T4tUhGYeRNVUGevb0wThu',\n   'id': '3T4tUhGYeRNVUGevb0wThu',\n   'images': [{'height': 640,\n     'url': 'https://i.scdn.co/image/ab67616d0000b273ba5db46f4b838ef6027e6f96',\n     'width': 640},\n    {'height': 300,\n     'url': 'https://i.scdn.co/image/ab67616d00001e02ba5db46f4b838ef6027e6f96',\n     'width': 300},\n    {'height': 64,\n     'url': 'https://i.scdn.co/image/ab67616d00004851ba5db46f4b838ef6027e6f96',\n     'width': 64}],\n   'name': '÷ (Deluxe)',\n   'release_date': '2017-03-03',\n   'release_date_precision': 'day',\n   'total_tracks': 16,\n   'type': 'album',\n   'uri': 'spotify:album:3T4tUhGYeRNVUGevb0wThu'},\n  {'album_group': 'album',\n   'album_type': 'album',\n   'artists': [{'external_urls': {'spotify': 'https://open.spotify.com/artist/6eUKZXaKkcviH0Ku9w2n3V'},\n     'href': 'https://api.spotify.com/v1/artists/6eUKZXaKkcviH0Ku9w2n3V',\n     'id': '6eUKZXaKkcviH0Ku9w2n3V',\n     'name': 'Ed Sheeran',\n     'type': 'artist',\n     'uri': 'spotify:artist:6eUKZXaKkcviH0Ku9w2n3V'}],\n   'external_urls': {'spotify': 'https://open.spotify.com/album/0MeOIA0wwSa6nW79jy8QcZ'},\n   'href': 'https://api.spotify.com/v1/albums/0MeOIA0wwSa6nW79jy8QcZ',\n   'id': '0MeOIA0wwSa6nW79jy8QcZ',\n   'images': [{'height': 640,\n     'url': 'https://i.scdn.co/image/ab67616d0000b273407981084d79d283e24d428e',\n     'width': 640},\n    {'height': 300,\n     'url': 'https://i.scdn.co/image/ab67616d00001e02407981084d79d283e24d428e',\n     'width': 300},\n    {'height': 64,\n     'url': 'https://i.scdn.co/image/ab67616d00004851407981084d79d283e24d428e',\n     'width': 64}],\n   'name': 'x (Wembley Edition)',\n   'release_date': '2015-11-13',\n   'release_date_precision': 'day',\n   'total_tracks': 23,\n   'type': 'album',\n   'uri': 'spotify:album:0MeOIA0wwSa6nW79jy8QcZ'},\n  {'album_group': 'album',\n   'album_type': 'album',\n   'artists': [{'external_urls': {'spotify': 'https://open.spotify.com/artist/6eUKZXaKkcviH0Ku9w2n3V'},\n     'href': 'https://api.spotify.com/v1/artists/6eUKZXaKkcviH0Ku9w2n3V',\n     'id': '6eUKZXaKkcviH0Ku9w2n3V',\n     'name': 'Ed Sheeran',\n     'type': 'artist',\n     'uri': 'spotify:artist:6eUKZXaKkcviH0Ku9w2n3V'}],\n   'external_urls': {'spotify': 'https://open.spotify.com/album/2hyDesSAYNefikDJXlqhPE'},\n   'href': 'https://api.spotify.com/v1/albums/2hyDesSAYNefikDJXlqhPE',\n   'id': '2hyDesSAYNefikDJXlqhPE',\n   'images': [{'height': 640,\n     'url': 'https://i.scdn.co/image/ab67616d0000b2732fec3ad10ab2f3a637e7a127',\n     'width': 640},\n    {'height': 300,\n     'url': 'https://i.scdn.co/image/ab67616d00001e022fec3ad10ab2f3a637e7a127',\n     'width': 300},\n    {'height': 64,\n     'url': 'https://i.scdn.co/image/ab67616d000048512fec3ad10ab2f3a637e7a127',\n     'width': 64}],\n   'name': '5',\n   'release_date': '2014-06-23',\n   'release_date_precision': 'day',\n   'total_tracks': 32,\n   'type': 'album',\n   'uri': 'spotify:album:2hyDesSAYNefikDJXlqhPE'},\n  {'album_group': 'album',\n   'album_type': 'album',\n   'artists': [{'external_urls': {'spotify': 'https://open.spotify.com/artist/6eUKZXaKkcviH0Ku9w2n3V'},\n     'href': 'https://api.spotify.com/v1/artists/6eUKZXaKkcviH0Ku9w2n3V',\n     'id': '6eUKZXaKkcviH0Ku9w2n3V',\n     'name': 'Ed Sheeran',\n     'type': 'artist',\n     'uri': 'spotify:artist:6eUKZXaKkcviH0Ku9w2n3V'}],\n   'external_urls': {'spotify': 'https://open.spotify.com/album/1xn54DMo2qIqBuMqHtUsFd'},\n   'href': 'https://api.spotify.com/v1/albums/1xn54DMo2qIqBuMqHtUsFd',\n   'id': '1xn54DMo2qIqBuMqHtUsFd',\n   'images': [{'height': 640,\n     'url': 'https://i.scdn.co/image/ab67616d0000b27313b3e37318a0c247b550bccd',\n     'width': 640},\n    {'height': 300,\n     'url': 'https://i.scdn.co/image/ab67616d00001e0213b3e37318a0c247b550bccd',\n     'width': 300},\n    {'height': 64,\n     'url': 'https://i.scdn.co/image/ab67616d0000485113b3e37318a0c247b550bccd',\n     'width': 64}],\n   'name': 'x (Deluxe Edition)',\n   'release_date': '2014-06-21',\n   'release_date_precision': 'day',\n   'total_tracks': 16,\n   'type': 'album',\n   'uri': 'spotify:album:1xn54DMo2qIqBuMqHtUsFd'},\n  {'album_group': 'album',\n   'album_type': 'album',\n   'artists': [{'external_urls': {'spotify': 'https://open.spotify.com/artist/6eUKZXaKkcviH0Ku9w2n3V'},\n     'href': 'https://api.spotify.com/v1/artists/6eUKZXaKkcviH0Ku9w2n3V',\n     'id': '6eUKZXaKkcviH0Ku9w2n3V',\n     'name': 'Ed Sheeran',\n     'type': 'artist',\n     'uri': 'spotify:artist:6eUKZXaKkcviH0Ku9w2n3V'}],\n   'external_urls': {'spotify': 'https://open.spotify.com/album/0Yi8StK0Si3u2bLr3Qsm2Q'},\n   'href': 'https://api.spotify.com/v1/albums/0Yi8StK0Si3u2bLr3Qsm2Q',\n   'id': '0Yi8StK0Si3u2bLr3Qsm2Q',\n   'images': [{'height': 640,\n     'url': 'https://i.scdn.co/image/ab67616d0000b273b81ce469fb895a3dbd7f896d',\n     'width': 640},\n    {'height': 300,\n     'url': 'https://i.scdn.co/image/ab67616d00001e02b81ce469fb895a3dbd7f896d',\n     'width': 300},\n    {'height': 64,\n     'url': 'https://i.scdn.co/image/ab67616d00004851b81ce469fb895a3dbd7f896d',\n     'width': 64}],\n   'name': 'x (Wembley Edition)',\n   'release_date': '2013',\n   'release_date_precision': 'year',\n   'total_tracks': 24,\n   'type': 'album',\n   'uri': 'spotify:album:0Yi8StK0Si3u2bLr3Qsm2Q'},\n  {'album_group': 'album',\n   'album_type': 'album',\n   'artists': [{'external_urls': {'spotify': 'https://open.spotify.com/artist/6eUKZXaKkcviH0Ku9w2n3V'},\n     'href': 'https://api.spotify.com/v1/artists/6eUKZXaKkcviH0Ku9w2n3V',\n     'id': '6eUKZXaKkcviH0Ku9w2n3V',\n     'name': 'Ed Sheeran',\n     'type': 'artist',\n     'uri': 'spotify:artist:6eUKZXaKkcviH0Ku9w2n3V'}],\n   'external_urls': {'spotify': 'https://open.spotify.com/album/6NoBzYmh5gUusGPCfg0pct'},\n   'href': 'https://api.spotify.com/v1/albums/6NoBzYmh5gUusGPCfg0pct',\n   'id': '6NoBzYmh5gUusGPCfg0pct',\n   'images': [{'height': 640,\n     'url': 'https://i.scdn.co/image/ab67616d0000b273d08209944468440145f01524',\n     'width': 640},\n    {'height': 300,\n     'url': 'https://i.scdn.co/image/ab67616d00001e02d08209944468440145f01524',\n     'width': 300},\n    {'height': 64,\n     'url': 'https://i.scdn.co/image/ab67616d00004851d08209944468440145f01524',\n     'width': 64}],\n   'name': 'x (Wembley Edition)',\n   'release_date': '2013',\n   'release_date_precision': 'year',\n   'total_tracks': 24,\n   'type': 'album',\n   'uri': 'spotify:album:6NoBzYmh5gUusGPCfg0pct'},\n  {'album_group': 'album',\n   'album_type': 'album',\n   'artists': [{'external_urls': {'spotify': 'https://open.spotify.com/artist/6eUKZXaKkcviH0Ku9w2n3V'},\n     'href': 'https://api.spotify.com/v1/artists/6eUKZXaKkcviH0Ku9w2n3V',\n     'id': '6eUKZXaKkcviH0Ku9w2n3V',\n     'name': 'Ed Sheeran',\n     'type': 'artist',\n     'uri': 'spotify:artist:6eUKZXaKkcviH0Ku9w2n3V'}],\n   'external_urls': {'spotify': 'https://open.spotify.com/album/3hA2oZbZwHU8tSPBFIZhFr'},\n   'href': 'https://api.spotify.com/v1/albums/3hA2oZbZwHU8tSPBFIZhFr',\n   'id': '3hA2oZbZwHU8tSPBFIZhFr',\n   'images': [{'height': 640,\n     'url': 'https://i.scdn.co/image/ab67616d0000b273036cb2ddc525efe3420f3791',\n     'width': 640},\n    {'height': 300,\n     'url': 'https://i.scdn.co/image/ab67616d00001e02036cb2ddc525efe3420f3791',\n     'width': 300},\n    {'height': 64,\n     'url': 'https://i.scdn.co/image/ab67616d00004851036cb2ddc525efe3420f3791',\n     'width': 64}],\n   'name': 'x (Wembley Edition)',\n   'release_date': '2013',\n   'release_date_precision': 'year',\n   'total_tracks': 24,\n   'type': 'album',\n   'uri': 'spotify:album:3hA2oZbZwHU8tSPBFIZhFr'},\n  {'album_group': 'album',\n   'album_type': 'album',\n   'artists': [{'external_urls': {'spotify': 'https://open.spotify.com/artist/6eUKZXaKkcviH0Ku9w2n3V'},\n     'href': 'https://api.spotify.com/v1/artists/6eUKZXaKkcviH0Ku9w2n3V',\n     'id': '6eUKZXaKkcviH0Ku9w2n3V',\n     'name': 'Ed Sheeran',\n     'type': 'artist',\n     'uri': 'spotify:artist:6eUKZXaKkcviH0Ku9w2n3V'}],\n   'external_urls': {'spotify': 'https://open.spotify.com/album/4JUtnlZKdLr01xEIymhm0G'},\n   'href': 'https://api.spotify.com/v1/albums/4JUtnlZKdLr01xEIymhm0G',\n   'id': '4JUtnlZKdLr01xEIymhm0G',\n   'images': [{'height': 640,\n     'url': 'https://i.scdn.co/image/ab67616d0000b2734dc715d4872af21780dc2b1e',\n     'width': 640},\n    {'height': 300,\n     'url': 'https://i.scdn.co/image/ab67616d00001e024dc715d4872af21780dc2b1e',\n     'width': 300},\n    {'height': 64,\n     'url': 'https://i.scdn.co/image/ab67616d000048514dc715d4872af21780dc2b1e',\n     'width': 64}],\n   'name': 'Live at the Bedford',\n   'release_date': '2011-12-09',\n   'release_date_precision': 'day',\n   'total_tracks': 6,\n   'type': 'album',\n   'uri': 'spotify:album:4JUtnlZKdLr01xEIymhm0G'},\n  {'album_group': 'album',\n   'album_type': 'album',\n   'artists': [{'external_urls': {'spotify': 'https://open.spotify.com/artist/6eUKZXaKkcviH0Ku9w2n3V'},\n     'href': 'https://api.spotify.com/v1/artists/6eUKZXaKkcviH0Ku9w2n3V',\n     'id': '6eUKZXaKkcviH0Ku9w2n3V',\n     'name': 'Ed Sheeran',\n     'type': 'artist',\n     'uri': 'spotify:artist:6eUKZXaKkcviH0Ku9w2n3V'}],\n   'external_urls': {'spotify': 'https://open.spotify.com/album/3QbPtoOWiJqZurXXxJwaOD'},\n   'href': 'https://api.spotify.com/v1/albums/3QbPtoOWiJqZurXXxJwaOD',\n   'id': '3QbPtoOWiJqZurXXxJwaOD',\n   'images': [{'height': 640,\n     'url': 'https://i.scdn.co/image/ab67616d0000b273bc17a9c21d5a81d341945ed2',\n     'width': 640},\n    {'height': 300,\n     'url': 'https://i.scdn.co/image/ab67616d00001e02bc17a9c21d5a81d341945ed2',\n     'width': 300},\n    {'height': 64,\n     'url': 'https://i.scdn.co/image/ab67616d00004851bc17a9c21d5a81d341945ed2',\n     'width': 64}],\n   'name': 'Loose Change',\n   'release_date': '2011-12-09',\n   'release_date_precision': 'day',\n   'total_tracks': 8,\n   'type': 'album',\n   'uri': 'spotify:album:3QbPtoOWiJqZurXXxJwaOD'},\n  {'album_group': 'album',\n   'album_type': 'album',\n   'artists': [{'external_urls': {'spotify': 'https://open.spotify.com/artist/6eUKZXaKkcviH0Ku9w2n3V'},\n     'href': 'https://api.spotify.com/v1/artists/6eUKZXaKkcviH0Ku9w2n3V',\n     'id': '6eUKZXaKkcviH0Ku9w2n3V',\n     'name': 'Ed Sheeran',\n     'type': 'artist',\n     'uri': 'spotify:artist:6eUKZXaKkcviH0Ku9w2n3V'}],\n   'external_urls': {'spotify': 'https://open.spotify.com/album/1slAnKc9Ykyght8EI9Y0dM'},\n   'href': 'https://api.spotify.com/v1/albums/1slAnKc9Ykyght8EI9Y0dM',\n   'id': '1slAnKc9Ykyght8EI9Y0dM',\n   'images': [{'height': 640,\n     'url': 'https://i.scdn.co/image/ab67616d0000b273d4e0fdd4c41a4f9bfd884301',\n     'width': 640},\n    {'height': 300,\n     'url': 'https://i.scdn.co/image/ab67616d00001e02d4e0fdd4c41a4f9bfd884301',\n     'width': 300},\n    {'height': 64,\n     'url': 'https://i.scdn.co/image/ab67616d00004851d4e0fdd4c41a4f9bfd884301',\n     'width': 64}],\n   'name': '+',\n   'release_date': '2011-09-09',\n   'release_date_precision': 'day',\n   'total_tracks': 18,\n   'type': 'album',\n   'uri': 'spotify:album:1slAnKc9Ykyght8EI9Y0dM'},\n  {'album_group': 'album',\n   'album_type': 'album',\n   'artists': [{'external_urls': {'spotify': 'https://open.spotify.com/artist/6eUKZXaKkcviH0Ku9w2n3V'},\n     'href': 'https://api.spotify.com/v1/artists/6eUKZXaKkcviH0Ku9w2n3V',\n     'id': '6eUKZXaKkcviH0Ku9w2n3V',\n     'name': 'Ed Sheeran',\n     'type': 'artist',\n     'uri': 'spotify:artist:6eUKZXaKkcviH0Ku9w2n3V'}],\n   'external_urls': {'spotify': 'https://open.spotify.com/album/02pi98kE0nra0yBqCStzbC'},\n   'href': 'https://api.spotify.com/v1/albums/02pi98kE0nra0yBqCStzbC',\n   'id': '02pi98kE0nra0yBqCStzbC',\n   'images': [{'height': 640,\n     'url': 'https://i.scdn.co/image/ab67616d0000b273ed139c2e0e3681cc2d35e256',\n     'width': 640},\n    {'height': 300,\n     'url': 'https://i.scdn.co/image/ab67616d00001e02ed139c2e0e3681cc2d35e256',\n     'width': 300},\n    {'height': 64,\n     'url': 'https://i.scdn.co/image/ab67616d00004851ed139c2e0e3681cc2d35e256',\n     'width': 64}],\n   'name': '+',\n   'release_date': '2011-09-09',\n   'release_date_precision': 'day',\n   'total_tracks': 16,\n   'type': 'album',\n   'uri': 'spotify:album:02pi98kE0nra0yBqCStzbC'},\n  {'album_group': 'album',\n   'album_type': 'album',\n   'artists': [{'external_urls': {'spotify': 'https://open.spotify.com/artist/6eUKZXaKkcviH0Ku9w2n3V'},\n     'href': 'https://api.spotify.com/v1/artists/6eUKZXaKkcviH0Ku9w2n3V',\n     'id': '6eUKZXaKkcviH0Ku9w2n3V',\n     'name': 'Ed Sheeran',\n     'type': 'artist',\n     'uri': 'spotify:artist:6eUKZXaKkcviH0Ku9w2n3V'}],\n   'external_urls': {'spotify': 'https://open.spotify.com/album/3w0VffyaakTvUtTwjPCo7Y'},\n   'href': 'https://api.spotify.com/v1/albums/3w0VffyaakTvUtTwjPCo7Y',\n   'id': '3w0VffyaakTvUtTwjPCo7Y',\n   'images': [{'height': 640,\n     'url': 'https://i.scdn.co/image/ab67616d0000b2730a2dead039b62247c8c0865e',\n     'width': 640},\n    {'height': 300,\n     'url': 'https://i.scdn.co/image/ab67616d00001e020a2dead039b62247c8c0865e',\n     'width': 300},\n    {'height': 64,\n     'url': 'https://i.scdn.co/image/ab67616d000048510a2dead039b62247c8c0865e',\n     'width': 64}],\n   'name': '+',\n   'release_date': '2011-09-09',\n   'release_date_precision': 'day',\n   'total_tracks': 16,\n   'type': 'album',\n   'uri': 'spotify:album:3w0VffyaakTvUtTwjPCo7Y'},\n  {'album_group': 'album',\n   'album_type': 'album',\n   'artists': [{'external_urls': {'spotify': 'https://open.spotify.com/artist/6eUKZXaKkcviH0Ku9w2n3V'},\n     'href': 'https://api.spotify.com/v1/artists/6eUKZXaKkcviH0Ku9w2n3V',\n     'id': '6eUKZXaKkcviH0Ku9w2n3V',\n     'name': 'Ed Sheeran',\n     'type': 'artist',\n     'uri': 'spotify:artist:6eUKZXaKkcviH0Ku9w2n3V'}],\n   'external_urls': {'spotify': 'https://open.spotify.com/album/0W5GGnapMz0VwemQvJDqa7'},\n   'href': 'https://api.spotify.com/v1/albums/0W5GGnapMz0VwemQvJDqa7',\n   'id': '0W5GGnapMz0VwemQvJDqa7',\n   'images': [{'height': 640,\n     'url': 'https://i.scdn.co/image/ab67616d0000b273f0e911d0e5aadefc431bf34a',\n     'width': 640},\n    {'height': 300,\n     'url': 'https://i.scdn.co/image/ab67616d00001e02f0e911d0e5aadefc431bf34a',\n     'width': 300},\n    {'height': 64,\n     'url': 'https://i.scdn.co/image/ab67616d00004851f0e911d0e5aadefc431bf34a',\n     'width': 64}],\n   'name': '+',\n   'release_date': '2011-09-09',\n   'release_date_precision': 'day',\n   'total_tracks': 12,\n   'type': 'album',\n   'uri': 'spotify:album:0W5GGnapMz0VwemQvJDqa7'},\n  {'album_group': 'album',\n   'album_type': 'album',\n   'artists': [{'external_urls': {'spotify': 'https://open.spotify.com/artist/6eUKZXaKkcviH0Ku9w2n3V'},\n     'href': 'https://api.spotify.com/v1/artists/6eUKZXaKkcviH0Ku9w2n3V',\n     'id': '6eUKZXaKkcviH0Ku9w2n3V',\n     'name': 'Ed Sheeran',\n     'type': 'artist',\n     'uri': 'spotify:artist:6eUKZXaKkcviH0Ku9w2n3V'}],\n   'external_urls': {'spotify': 'https://open.spotify.com/album/2PNtGh8cixtb0oXjbGkUnZ'},\n   'href': 'https://api.spotify.com/v1/albums/2PNtGh8cixtb0oXjbGkUnZ',\n   'id': '2PNtGh8cixtb0oXjbGkUnZ',\n   'images': [{'height': 640,\n     'url': 'https://i.scdn.co/image/ab67616d0000b273b9f849804597cf61da3f5a06',\n     'width': 640},\n    {'height': 300,\n     'url': 'https://i.scdn.co/image/ab67616d00001e02b9f849804597cf61da3f5a06',\n     'width': 300},\n    {'height': 64,\n     'url': 'https://i.scdn.co/image/ab67616d00004851b9f849804597cf61da3f5a06',\n     'width': 64}],\n   'name': '+',\n   'release_date': '2011-09-09',\n   'release_date_precision': 'day',\n   'total_tracks': 12,\n   'type': 'album',\n   'uri': 'spotify:album:2PNtGh8cixtb0oXjbGkUnZ'},\n  {'album_group': 'album',\n   'album_type': 'album',\n   'artists': [{'external_urls': {'spotify': 'https://open.spotify.com/artist/6eUKZXaKkcviH0Ku9w2n3V'},\n     'href': 'https://api.spotify.com/v1/artists/6eUKZXaKkcviH0Ku9w2n3V',\n     'id': '6eUKZXaKkcviH0Ku9w2n3V',\n     'name': 'Ed Sheeran',\n     'type': 'artist',\n     'uri': 'spotify:artist:6eUKZXaKkcviH0Ku9w2n3V'}],\n   'external_urls': {'spotify': 'https://open.spotify.com/album/6DpIyaMgt5p9HlGd1c0LDM'},\n   'href': 'https://api.spotify.com/v1/albums/6DpIyaMgt5p9HlGd1c0LDM',\n   'id': '6DpIyaMgt5p9HlGd1c0LDM',\n   'images': [{'height': 640,\n     'url': 'https://i.scdn.co/image/ab67616d0000b2733c33fbe943babf9510e3715c',\n     'width': 640},\n    {'height': 300,\n     'url': 'https://i.scdn.co/image/ab67616d00001e023c33fbe943babf9510e3715c',\n     'width': 300},\n    {'height': 64,\n     'url': 'https://i.scdn.co/image/ab67616d000048513c33fbe943babf9510e3715c',\n     'width': 64}],\n   'name': 'No.5 Collaborations Project',\n   'release_date': '2011-09-09',\n   'release_date_precision': 'day',\n   'total_tracks': 8,\n   'type': 'album',\n   'uri': 'spotify:album:6DpIyaMgt5p9HlGd1c0LDM'},\n  {'album_group': 'single',\n   'album_type': 'single',\n   'artists': [{'external_urls': {'spotify': 'https://open.spotify.com/artist/6eUKZXaKkcviH0Ku9w2n3V'},\n     'href': 'https://api.spotify.com/v1/artists/6eUKZXaKkcviH0Ku9w2n3V',\n     'id': '6eUKZXaKkcviH0Ku9w2n3V',\n     'name': 'Ed Sheeran',\n     'type': 'artist',\n     'uri': 'spotify:artist:6eUKZXaKkcviH0Ku9w2n3V'}],\n   'external_urls': {'spotify': 'https://open.spotify.com/album/5bb2Sf8jps2DTyI2urMThV'},\n   'href': 'https://api.spotify.com/v1/albums/5bb2Sf8jps2DTyI2urMThV',\n   'id': '5bb2Sf8jps2DTyI2urMThV',\n   'images': [{'height': 640,\n     'url': 'https://i.scdn.co/image/ab67616d0000b27388e170d5ced543d191593fc8',\n     'width': 640},\n    {'height': 300,\n     'url': 'https://i.scdn.co/image/ab67616d00001e0288e170d5ced543d191593fc8',\n     'width': 300},\n    {'height': 64,\n     'url': 'https://i.scdn.co/image/ab67616d0000485188e170d5ced543d191593fc8',\n     'width': 64}],\n   'name': 'Afterglow',\n   'release_date': '2020-12-21',\n   'release_date_precision': 'day',\n   'total_tracks': 1,\n   'type': 'album',\n   'uri': 'spotify:album:5bb2Sf8jps2DTyI2urMThV'},\n  {'album_group': 'single',\n   'album_type': 'single',\n   'artists': [{'external_urls': {'spotify': 'https://open.spotify.com/artist/6eUKZXaKkcviH0Ku9w2n3V'},\n     'href': 'https://api.spotify.com/v1/artists/6eUKZXaKkcviH0Ku9w2n3V',\n     'id': '6eUKZXaKkcviH0Ku9w2n3V',\n     'name': 'Ed Sheeran',\n     'type': 'artist',\n     'uri': 'spotify:artist:6eUKZXaKkcviH0Ku9w2n3V'},\n    {'external_urls': {'spotify': 'https://open.spotify.com/artist/4kYSro6naA4h99UJvo89HB'},\n     'href': 'https://api.spotify.com/v1/artists/4kYSro6naA4h99UJvo89HB',\n     'id': '4kYSro6naA4h99UJvo89HB',\n     'name': 'Cardi B',\n     'type': 'artist',\n     'uri': 'spotify:artist:4kYSro6naA4h99UJvo89HB'},\n    {'external_urls': {'spotify': 'https://open.spotify.com/artist/2tAbkZSNg8OdcUVzSOrYRW'},\n     'href': 'https://api.spotify.com/v1/artists/2tAbkZSNg8OdcUVzSOrYRW',\n     'id': '2tAbkZSNg8OdcUVzSOrYRW',\n     'name': 'Andy Jarvis',\n     'type': 'artist',\n     'uri': 'spotify:artist:2tAbkZSNg8OdcUVzSOrYRW'}],\n   'external_urls': {'spotify': 'https://open.spotify.com/album/1imXAvLuowvPYIsFMYUPY0'},\n   'href': 'https://api.spotify.com/v1/albums/1imXAvLuowvPYIsFMYUPY0',\n   'id': '1imXAvLuowvPYIsFMYUPY0',\n   'images': [{'height': 640,\n     'url': 'https://i.scdn.co/image/ab67616d0000b273a20a8e59debcb3b87414dbc1',\n     'width': 640},\n    {'height': 300,\n     'url': 'https://i.scdn.co/image/ab67616d00001e02a20a8e59debcb3b87414dbc1',\n     'width': 300},\n    {'height': 64,\n     'url': 'https://i.scdn.co/image/ab67616d00004851a20a8e59debcb3b87414dbc1',\n     'width': 64}],\n   'name': 'South of the Border (feat. Camila Cabello & Cardi B) [Andy Jarvis Remix]',\n   'release_date': '2019-12-11',\n   'release_date_precision': 'day',\n   'total_tracks': 1,\n   'type': 'album',\n   'uri': 'spotify:album:1imXAvLuowvPYIsFMYUPY0'},\n  {'album_group': 'single',\n   'album_type': 'single',\n   'artists': [{'external_urls': {'spotify': 'https://open.spotify.com/artist/6eUKZXaKkcviH0Ku9w2n3V'},\n     'href': 'https://api.spotify.com/v1/artists/6eUKZXaKkcviH0Ku9w2n3V',\n     'id': '6eUKZXaKkcviH0Ku9w2n3V',\n     'name': 'Ed Sheeran',\n     'type': 'artist',\n     'uri': 'spotify:artist:6eUKZXaKkcviH0Ku9w2n3V'},\n    {'external_urls': {'spotify': 'https://open.spotify.com/artist/0Y5tJX1MQlPlqiwlOH1tJY'},\n     'href': 'https://api.spotify.com/v1/artists/0Y5tJX1MQlPlqiwlOH1tJY',\n     'id': '0Y5tJX1MQlPlqiwlOH1tJY',\n     'name': 'Travis Scott',\n     'type': 'artist',\n     'uri': 'spotify:artist:0Y5tJX1MQlPlqiwlOH1tJY'},\n    {'external_urls': {'spotify': 'https://open.spotify.com/artist/1yqxFtPHKcGcv6SXZNdyT9'},\n     'href': 'https://api.spotify.com/v1/artists/1yqxFtPHKcGcv6SXZNdyT9',\n     'id': '1yqxFtPHKcGcv6SXZNdyT9',\n     'name': 'MK',\n     'type': 'artist',\n     'uri': 'spotify:artist:1yqxFtPHKcGcv6SXZNdyT9'}],\n   'external_urls': {'spotify': 'https://open.spotify.com/album/0Whkv3Bi9hP9ev2cFPlZR3'},\n   'href': 'https://api.spotify.com/v1/albums/0Whkv3Bi9hP9ev2cFPlZR3',\n   'id': '0Whkv3Bi9hP9ev2cFPlZR3',\n   'images': [{'height': 640,\n     'url': 'https://i.scdn.co/image/ab67616d0000b2731186f0b49f3a92c6417bf3e7',\n     'width': 640},\n    {'height': 300,\n     'url': 'https://i.scdn.co/image/ab67616d00001e021186f0b49f3a92c6417bf3e7',\n     'width': 300},\n    {'height': 64,\n     'url': 'https://i.scdn.co/image/ab67616d000048511186f0b49f3a92c6417bf3e7',\n     'width': 64}],\n   'name': 'Antisocial (with Travis Scott) [MK Remix]',\n   'release_date': '2019-12-10',\n   'release_date_precision': 'day',\n   'total_tracks': 1,\n   'type': 'album',\n   'uri': 'spotify:album:0Whkv3Bi9hP9ev2cFPlZR3'}],\n 'limit': 20,\n 'next': 'https://api.spotify.com/v1/artists/6eUKZXaKkcviH0Ku9w2n3V/albums?offset=20&limit=20&include_groups=album,single,compilation,appears_on&market=CO',\n 'offset': 0,\n 'previous': None,\n 'total': 361}"
     },
     "execution_count": 46,
     "metadata": {},
     "output_type": "execute_result"
    }
   ],
   "source": [
    "# Obteniendo los albums por id de artista\n",
    "url_album_artista = url_base + f'artists/{id_artist_from_df}/albums'\n",
    "params = {\n",
    "    'country' :'CO'\n",
    "}\n",
    "albums_request = requests.get(url_album_artista, params=params, headers=headers_api)\n",
    "albums_request.json()\n"
   ],
   "metadata": {
    "collapsed": false,
    "pycharm": {
     "name": "#%%\n"
    }
   }
  },
  {
   "cell_type": "code",
   "execution_count": 47,
   "outputs": [
    {
     "data": {
      "text/plain": "'3oIFxDIo2fwuk4lwCmFZCx'"
     },
     "execution_count": 47,
     "metadata": {},
     "output_type": "execute_result"
    }
   ],
   "source": [
    "# Obteniendo de la lista obtenida de albums, solo el id para el primer album\n",
    "id_album_artist = albums_request.json()['items'][0]['id']\n",
    "id_album_artist\n"
   ],
   "metadata": {
    "collapsed": false,
    "pycharm": {
     "name": "#%%\n"
    }
   }
  },
  {
   "cell_type": "code",
   "execution_count": null,
   "outputs": [],
   "source": [
    "# Onteniendo todas las canciones del album"
   ],
   "metadata": {
    "collapsed": false,
    "pycharm": {
     "name": "#%%\n"
    }
   }
  }
 ],
 "metadata": {
  "kernelspec": {
   "display_name": "Python 3",
   "language": "python",
   "name": "python3"
  },
  "language_info": {
   "codemirror_mode": {
    "name": "ipython",
    "version": 2
   },
   "file_extension": ".py",
   "mimetype": "text/x-python",
   "name": "python",
   "nbconvert_exporter": "python",
   "pygments_lexer": "ipython2",
   "version": "2.7.6"
  }
 },
 "nbformat": 4,
 "nbformat_minor": 0
}