{
 "cells": [
  {
   "cell_type": "code",
   "execution_count": 1,
   "metadata": {
    "collapsed": true
   },
   "outputs": [
    {
     "data": {
      "text/plain": "'\\nCódigos de estado HTTP más comunes\\n\\nStatus code 200 – OK.\\nStatus code 301 – Moved Permanently.\\nStatus code 302 – Moved Temporarily.\\nStatus code 403 – Forbidden\\nStatus code 404 – Not Found\\nStatus code 500 – Internal Server Error\\nStatus code 503 \\xad– Service Unavailable\\n'"
     },
     "execution_count": 1,
     "metadata": {},
     "output_type": "execute_result"
    }
   ],
   "source": [
    "# pip install --user jupyter\n",
    "\n",
    "\"\"\"\n",
    "Códigos de estado HTTP más comunes\n",
    "\n",
    "Status code 200 – OK.\n",
    "Status code 301 – Moved Permanently.\n",
    "Status code 302 – Moved Temporarily.\n",
    "Status code 403 – Forbidden\n",
    "Status code 404 – Not Found\n",
    "Status code 500 – Internal Server Error\n",
    "Status code 503 ­– Service Unavailable\n",
    "\"\"\"\n",
    "\n",
    "\n"
   ]
  },
  {
   "cell_type": "code",
   "execution_count": null,
   "outputs": [],
   "source": [
    "\"\"\"\n",
    "Archivo robots.txt\n",
    "// Archivo raiz del sitio\n",
    "\n",
    "# Group 1\n",
    "User-agent: Googlebot || *\n",
    "Disallow: /nogooglebot/  // No permite web screpping\n",
    "\n",
    "# Group 2\n",
    "User-agent: *\n",
    "Allow: /   // permite web scrapping\n",
    "\n",
    "\"\"\"\n"
   ],
   "metadata": {
    "collapsed": false,
    "pycharm": {
     "name": "#%%\n"
    }
   }
  },
  {
   "cell_type": "code",
   "execution_count": null,
   "outputs": [],
   "source": [
    "\"\"\"\n",
    "Para escribir expresiones se usara lo siguiente $x(''). Entre las comillas se van a escribir las expresiones, las expresiones tienen diferentes símbolos que tienen una utilidad.\n",
    "\n",
    "Se describe la utilidad de cada expresión.\n",
    "\n",
    "/ hace referencia a la raíz, o tambien significa un salto entre nodos. e.g /html/bodyMuestra todo lo que hay dentro del body de html\n",
    "// Sirve para acceder a todos los nodos con la etiqueta seleccionada. e.g [*//span](//span) muestra todas las etiquetas span*\n",
    ".. Sirve para acceder a los nodos padre de la etiqueta tag. e.g //span/.. accede a todos los nodos padre de span\n",
    ". Hace referencia al nodo actual. e.g. //span/. es equivalent a //span\n",
    "@ Sirve para traer los atributos. e.g //div/@class Nos da las clases de todos los divs\n",
    "\n",
    "\"\"\"\n"
   ],
   "metadata": {
    "collapsed": false,
    "pycharm": {
     "name": "#%%\n"
    }
   }
  },
  {
   "cell_type": "code",
   "execution_count": null,
   "outputs": [],
   "source": [
    "\"\"\"\n",
    "Cuando necesitamos un numero especifico dentro ese numero de nodos podemos utilizar [ ] como si fuera una lista, entonce llamamos el numero en el que esta ordenado esa etiqueta\n",
    "\n",
    "$x('/hrml/body/div/div[1]') nos devolveria el div [1] dentro de la anterior busuqueda\n",
    "\n",
    "$x('/hrml/body/div/div[last()]') podemos pedir el ultimo con las sentencia last\n",
    "\n",
    "// si le antecede un @ siginifica que accedra a algun atributo de html\n",
    "$x('//span[@class]') aqui solicitamos todos lo espam que tengan al menos un elemento de tipo class\n",
    "\n",
    "$x('//span[@class=\"text\"]') pedimos una clase determinada, en este ejemplo solo pedimos la clase text\n",
    "\"\"\"\n",
    "\n"
   ],
   "metadata": {
    "collapsed": false,
    "pycharm": {
     "name": "#%%\n"
    }
   }
  },
  {
   "cell_type": "code",
   "execution_count": null,
   "outputs": [],
   "source": [
    "\"\"\"\n",
    "#Usando el operador != diferente, le estoy diciendo que me\n",
    "traiga todos los nodos span que tienen clase diferente a Texto.\n",
    "$x('//span[@class!=\"text\"]')\n",
    "\n",
    "# Usando operador not me devuelve todos los nodos que no tienen\n",
    "el atributo class.\n",
    "$x('//span[not(@class)]'\n",
    "# Aplicando condicionales para seleccionar los span\n",
    "$x('//span[not(@class) and @class='new_class']' || and or\n",
    "\n",
    "# Accede a todos los div que sean mayores a la 1er posicion\n",
    "$x('/html/body/div/div[position()>1]')'\n",
    "\"\"\"\n",
    "\n"
   ],
   "metadata": {
    "collapsed": false,
    "pycharm": {
     "name": "#%%\n"
    }
   }
  },
  {
   "cell_type": "code",
   "execution_count": null,
   "outputs": [],
   "source": [
    "\"\"\"\n",
    "Wilcards = comodines\n",
    "Ejemplos\n",
    "\n",
    "$x('/') <- Trae todo el documento porque representa la raíz de nuestro el html\n",
    "$x('/*') <- * después de / pide que traiga todos los nodos que están debajo de / (* es el primer wildcard)\n",
    "$x('/html/*') <- Trae todos los nodos que están inmediatamente después de html\n",
    "$x('//*') <- // es la expresión para saltar todos los niveles y con el * en todas las direcciones. Trae todos los nodos y todos los atributos de estos nodos.\n",
    "$x('//span[@class=\"text]/@*') <- Trae todos los span, que tengan como clase “text”, con @* trae todos los atributos. Dicho de otra forma, trae todos los atributos de todos los nodos de tipo span de clase “text”.\n",
    "$x('/html/body//div/@*') <- Todos los atributos (usando @*) de todos los div (usando //div) que están después de body\n",
    "$x('//span[@class=\"text\" and @itemprop=\"text\"]/node()') <- Trae todos los spam que sean de clase “text” que tengan un atributo @itemprop “text” y de ahí (usando node()) traer todo lo que esté dentro de los spam que cumplen las condiciones\n",
    "\n",
    "node() a diferencia de * trae no solamente los nodos, sino también todo el contenido\n",
    "\n",
    "\"\"\"\n"
   ],
   "metadata": {
    "collapsed": false,
    "pycharm": {
     "name": "#%%\n"
    }
   }
  },
  {
   "cell_type": "code",
   "execution_count": null,
   "outputs": [],
   "source": [
    "\"\"\"\n",
    "\n",
    "Para buscar cadenas de caracteres especificas dentro de un texto.\n",
    "\n",
    "start-with(.“Texto a buscar”): Empezar con, el punto hace referencia al nodo actual.\n",
    "$x('//small[@class=\"author\" and starts-with(.,\"A\")]/text()')\n",
    "\n",
    "end-with(.,\"\"): Termina en.\n",
    "matches(.,\"\"): Sirve para hacer una búsqueda en el texto de un nodo que coincida con una expresión regular.\n",
    "\n",
    "// Todos los small con clase author y que el valor contenga algun string\n",
    "$x('//small[@class=\"author\" and contains(.,\"As\")]/text()')\n",
    "\"\"\"\n"
   ],
   "metadata": {
    "collapsed": false,
    "pycharm": {
     "name": "#%%\n"
    }
   }
  },
  {
   "cell_type": "code",
   "execution_count": 2,
   "outputs": [
    {
     "data": {
      "text/plain": "'\\nEjemplo\\n\\nUrl: http://books.toscrape.com/\\n\\nExtrae los titulos para los a dentro de h3 y articles de clase product_pod\\n$x(\\'//article[@class=\"product_pod\"]/h3/a/@title\\')\\n\\nExtrayendo el texto precio\\n$x(\\'//article[@class=\"product_pod\"]/div[@class=\"product_price\"]/p[@class=\"price_color\"]/text()\\')\\n\\nExtrayendo las url de las imagenes\\n$x(\\'//article[@class=\"product_pod\"]/div[@class=\"image_container\"]//img/@src\\' )\\n\\n// Todas las categorias\\n$x(\\'//div[@class=\"side_categories\"]/ul[@class=\"nav nav-list\"]/li/ul/li/a/text()\\')\\n\\n\\n# Detail of book\\nURL : http://books.toscrape.com/catalogue/the-boys-in-the-boat-nine-americans-and-their-epic-quest-for-gold-at-the-1936-berlin-olympics_992/index.html\\n\\n//Stock available\\n$x(\\'//article[@class=\"product_page\"]/div[@class=\"row\"]/div[@class=\"col-sm-6 product_main\"]/p[@class=\"instock availability\"]/text()[2]\\')\\n\\n\\n'"
     },
     "execution_count": 2,
     "metadata": {},
     "output_type": "execute_result"
    }
   ],
   "source": [
    "\"\"\"\n",
    "self::div -> se abrevia con . y se refiere al mismo nodo o div en este caso\n",
    "child::div -> Trae los hijos del div\n",
    "descendant::div -> Trae todos los nodos que están en niveles inferiores\n",
    "descendant-or-self::div -> Trae la unión entre los descendientes y el mismo nodo div\n",
    "\n",
    "$x('/html/body/div/self::div')\n",
    "$x('/html/body/div/descendant-or-self::div')\n",
    "\"\"\"\n",
    "\n",
    "\n",
    "\"\"\"\n",
    "Ejemplo\n",
    "\n",
    "Url: http://books.toscrape.com/\n",
    "\n",
    "Extrae los titulos para los a dentro de h3 y articles de clase product_pod\n",
    "$x('//article[@class=\"product_pod\"]/h3/a/@title')\n",
    "\n",
    "Extrayendo el texto precio\n",
    "$x('//article[@class=\"product_pod\"]/div[@class=\"product_price\"]/p[@class=\"price_color\"]/text()')\n",
    "\n",
    "Extrayendo las url de las imagenes\n",
    "$x('//article[@class=\"product_pod\"]/div[@class=\"image_container\"]//img/@src' )\n",
    "\n",
    "// Todas las categorias\n",
    "$x('//div[@class=\"side_categories\"]/ul[@class=\"nav nav-list\"]/li/ul/li/a/text()')\n",
    "\n",
    "\n",
    "# Detail of book\n",
    "URL : http://books.toscrape.com/catalogue/the-boys-in-the-boat-nine-americans-and-their-epic-quest-for-gold-at-the-1936-berlin-olympics_992/index.html\n",
    "\n",
    "//Stock available\n",
    "$x('//article[@class=\"product_page\"]/div[@class=\"row\"]/div[@class=\"col-sm-6 product_main\"]/p[@class=\"instock availability\"]/text()[2]')\n",
    "\n",
    "\n",
    "\"\"\""
   ],
   "metadata": {
    "collapsed": false,
    "pycharm": {
     "name": "#%%\n"
    }
   }
  }
 ],
 "metadata": {
  "kernelspec": {
   "display_name": "Python 3",
   "language": "python",
   "name": "python3"
  },
  "language_info": {
   "codemirror_mode": {
    "name": "ipython",
    "version": 2
   },
   "file_extension": ".py",
   "mimetype": "text/x-python",
   "name": "python",
   "nbconvert_exporter": "python",
   "pygments_lexer": "ipython2",
   "version": "2.7.6"
  }
 },
 "nbformat": 4,
 "nbformat_minor": 0
}