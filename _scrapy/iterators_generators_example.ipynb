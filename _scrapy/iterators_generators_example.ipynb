{
 "cells": [
  {
   "cell_type": "code",
   "execution_count": 4,
   "metadata": {
    "collapsed": true
   },
   "outputs": [
    {
     "name": "stdout",
     "output_type": "stream",
     "text": [
      "type(my_iter) >> <class 'list_iterator'>\n",
      "next(my_iter) >>>\n",
      "1\n",
      "2\n",
      "3\n"
     ]
    }
   ],
   "source": [
    "my_list = [1,2,3,4,5]\n",
    "my_iter = iter(my_list)\n",
    "\n",
    "print(\"type(my_iter) >>\", type(my_iter))\n",
    "\n",
    "# Recorriendo el iterador\n",
    "print(\"next(my_iter) >>>\")\n",
    "print(next(my_iter))\n",
    "print(next(my_iter))\n",
    "print(next(my_iter))\n"
   ]
  },
  {
   "cell_type": "code",
   "execution_count": 11,
   "outputs": [
    {
     "name": "stdout",
     "output_type": "stream",
     "text": [
      "1\n"
     ]
    },
    {
     "data": {
      "text/plain": "[1, 2, 3]"
     },
     "execution_count": 11,
     "metadata": {},
     "output_type": "execute_result"
    }
   ],
   "source": [
    "# Generador\n",
    "# Permite guardar estados en cada iteracion\n",
    "def my_generator():\n",
    "    a = 1\n",
    "    yield a\n",
    "\n",
    "    a = 2\n",
    "    yield a\n",
    "\n",
    "    a = 3\n",
    "    yield a\n",
    "\n",
    "print(next(my_generator()))\n",
    "\n",
    "list(my_generator())"
   ],
   "metadata": {
    "collapsed": false,
    "pycharm": {
     "name": "#%%\n"
    }
   }
  }
 ],
 "metadata": {
  "kernelspec": {
   "display_name": "Python 3",
   "language": "python",
   "name": "python3"
  },
  "language_info": {
   "codemirror_mode": {
    "name": "ipython",
    "version": 2
   },
   "file_extension": ".py",
   "mimetype": "text/x-python",
   "name": "python",
   "nbconvert_exporter": "python",
   "pygments_lexer": "ipython2",
   "version": "2.7.6"
  }
 },
 "nbformat": 4,
 "nbformat_minor": 0
}